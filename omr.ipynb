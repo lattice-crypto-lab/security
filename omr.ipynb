{
 "cells": [
  {
   "cell_type": "code",
   "execution_count": 211,
   "metadata": {},
   "outputs": [],
   "source": [
    "from estimator.estimator import *\n",
    "from utils import *"
   ]
  },
  {
   "cell_type": "code",
   "execution_count": 212,
   "metadata": {},
   "outputs": [],
   "source": [
    "# LWE\n",
    "n1 = 512\n",
    "q1 = 2048\n",
    "\n",
    "lwe1_key_type = \"Binary\"\n",
    "lwe1_noise_stddev = 0.8293\n",
    "lwe1_key_distribution = ND.SparseBinary(n1 // 2, n1)\n",
    "\n",
    "# lwe1_key_type = \"Ternary\"\n",
    "# lwe1_noise_stddev = 0.63\n",
    "# lwe1_key_distribution = ND.SparseTernary(n1 // 4, n1 // 4, n1)"
   ]
  },
  {
   "cell_type": "code",
   "execution_count": 213,
   "metadata": {},
   "outputs": [
    {
     "name": "stdout",
     "output_type": "stream",
     "text": [
      "shape: (1, 7)\n",
      "┌───────────┬─────────┬──────────────┬───────────────┬──────────────┬───────────────┬──────────────┐\n",
      "│ dimension ┆ modulus ┆ secret_distr ┆ secret_stddev ┆ noise_stddev ┆ security_bits ┆ datetime     │\n",
      "│ ---       ┆ ---     ┆ ---          ┆ ---           ┆ ---          ┆ ---           ┆ ---          │\n",
      "│ u64       ┆ u64     ┆ str          ┆ f64           ┆ f64          ┆ f64           ┆ datetime[μs] │\n",
      "╞═══════════╪═════════╪══════════════╪═══════════════╪══════════════╪═══════════════╪══════════════╡\n",
      "│ 512       ┆ 2048    ┆ Binary       ┆ 0.5           ┆ 0.8293       ┆ 128.024617    ┆ 2025-02-28   │\n",
      "│           ┆         ┆              ┆               ┆              ┆               ┆ 14:36:04.107 │\n",
      "│           ┆         ┆              ┆               ┆              ┆               ┆ 401          │\n",
      "└───────────┴─────────┴──────────────┴───────────────┴──────────────┴───────────────┴──────────────┘\n"
     ]
    }
   ],
   "source": [
    "check_security_with_data(\n",
    "    n1, q1, lwe1_key_type, lwe1_key_distribution, lwe1_noise_stddev\n",
    ")"
   ]
  },
  {
   "cell_type": "code",
   "execution_count": 214,
   "metadata": {},
   "outputs": [],
   "source": [
    "# BSK 1\n",
    "N1 = 1024\n",
    "Q1 = Q27_10\n",
    "\n",
    "# bsk1_key_type = \"Binary\"\n",
    "# bsk1_stddev = 4.49\n",
    "# bsk1_key_distribution = ND.SparseBinary(N1 // 2, N1)\n",
    "\n",
    "bsk1_key_type = \"Ternary\"\n",
    "bsk1_stddev = 3.1859\n",
    "bsk1_key_distribution = ND.SparseTernary(N1 // 4, N1 // 4, N1)"
   ]
  },
  {
   "cell_type": "code",
   "execution_count": 215,
   "metadata": {},
   "outputs": [
    {
     "name": "stdout",
     "output_type": "stream",
     "text": [
      "shape: (1, 7)\n",
      "┌───────────┬───────────┬──────────────┬──────────────┬──────────────┬──────────────┬──────────────┐\n",
      "│ dimension ┆ modulus   ┆ secret_distr ┆ secret_stdde ┆ noise_stddev ┆ security_bit ┆ datetime     │\n",
      "│ ---       ┆ ---       ┆ ---          ┆ v            ┆ ---          ┆ s            ┆ ---          │\n",
      "│ u64       ┆ u64       ┆ str          ┆ ---          ┆ f64          ┆ ---          ┆ datetime[μs] │\n",
      "│           ┆           ┆              ┆ f64          ┆              ┆ f64          ┆              │\n",
      "╞═══════════╪═══════════╪══════════════╪══════════════╪══════════════╪══════════════╪══════════════╡\n",
      "│ 1024      ┆ 134215681 ┆ Ternary      ┆ 0.707107     ┆ 3.1859       ┆ 128.029066   ┆ 2025-02-28   │\n",
      "│           ┆           ┆              ┆              ┆              ┆              ┆ 14:37:12.181 │\n",
      "│           ┆           ┆              ┆              ┆              ┆              ┆ 723          │\n",
      "└───────────┴───────────┴──────────────┴──────────────┴──────────────┴──────────────┴──────────────┘\n"
     ]
    }
   ],
   "source": [
    "check_security_with_data(N1, Q1, bsk1_key_type, bsk1_key_distribution, bsk1_stddev)"
   ]
  },
  {
   "cell_type": "code",
   "execution_count": null,
   "metadata": {},
   "outputs": [],
   "source": [
    "n2 = 670\n",
    "\n",
    "ksk_type = \"Binary\"\n",
    "ksk_noise_stddev = 2.0329 * (2**10)\n",
    "ksk_distribution = ND.SparseBinary(n2 // 2, n2)\n",
    "\n",
    "# ksk_type = \"Ternary\"\n",
    "# ksk_noise_stddev = 3.2\n",
    "# ksk_distribution = ND.SparseTernary(n2 // 4, n2 // 4, n2)"
   ]
  },
  {
   "cell_type": "code",
   "execution_count": 217,
   "metadata": {},
   "outputs": [
    {
     "name": "stdout",
     "output_type": "stream",
     "text": [
      "shape: (1, 7)\n",
      "┌───────────┬───────────┬──────────────┬──────────────┬──────────────┬──────────────┬──────────────┐\n",
      "│ dimension ┆ modulus   ┆ secret_distr ┆ secret_stdde ┆ noise_stddev ┆ security_bit ┆ datetime     │\n",
      "│ ---       ┆ ---       ┆ ---          ┆ v            ┆ ---          ┆ s            ┆ ---          │\n",
      "│ u64       ┆ u64       ┆ str          ┆ ---          ┆ f64          ┆ ---          ┆ datetime[μs] │\n",
      "│           ┆           ┆              ┆ f64          ┆              ┆ f64          ┆              │\n",
      "╞═══════════╪═══════════╪══════════════╪══════════════╪══════════════╪══════════════╪══════════════╡\n",
      "│ 670       ┆ 134215681 ┆ Binary       ┆ 0.5          ┆ 2081.6896    ┆ 128.021958   ┆ 2025-02-28   │\n",
      "│           ┆           ┆              ┆              ┆              ┆              ┆ 14:38:34.927 │\n",
      "│           ┆           ┆              ┆              ┆              ┆              ┆ 018          │\n",
      "└───────────┴───────────┴──────────────┴──────────────┴──────────────┴──────────────┴──────────────┘\n"
     ]
    }
   ],
   "source": [
    "check_security_with_data(n2, Q1, ksk_type, ksk_distribution, ksk_noise_stddev)"
   ]
  },
  {
   "cell_type": "code",
   "execution_count": 250,
   "metadata": {},
   "outputs": [],
   "source": [
    "N2 = 2048\n",
    "Q2 = Q50_11\n",
    "\n",
    "# bsk2_key_type = \"Binary\"\n",
    "# bsk2_nosie_stddev = 4.63\n",
    "# bsk2_key_distribution = ND.SparseBinary(N2 // 2, N2)\n",
    "\n",
    "bsk2_key_type = \"Ternary\"\n",
    "bsk2_nosie_stddev = 0.3908\n",
    "bsk2_key_distribution = ND.SparseTernary(N2 // 4, N2 // 4, N2)"
   ]
  },
  {
   "cell_type": "code",
   "execution_count": 251,
   "metadata": {},
   "outputs": [
    {
     "name": "stdout",
     "output_type": "stream",
     "text": [
      "LWEParameters(n=2048, q=1125899906826241, Xs=T(p=512, m=512, n=2048), Xe=D(σ=0.39), m=+Infinity, tag=None)\n",
      "Algorithm functools.partial(<function dual at 0x7fa187cbf1a0>, red_cost_model=<estimator.estimator.reduction.BDGL16 object at 0x7fa187c881d0>) on LWEParameters(n=2048, q=1125899906826241, Xs=D(σ=0.39), Xe=D(σ=0.39), m=+Infinity, tag=None) failed with Unknown how to exploit sparsity of D(σ=0.39, μ=0.00, n=2048)\n",
      "usvp                 :: rop: ≈2^129.4, red: ≈2^129.4, δ: 1.004488, β: 336, d: 3824, tag: usvp\n",
      "bdd                  :: rop: ≈2^128.0, red: ≈2^127.7, svp: ≈2^125.6, β: 330, η: 374, d: 3917, tag: bdd\n",
      "shape: (1, 7)\n",
      "┌───────────┬──────────────┬──────────────┬──────────────┬─────────────┬─────────────┬─────────────┐\n",
      "│ dimension ┆ modulus      ┆ secret_distr ┆ secret_stdde ┆ noise_stdde ┆ security_bi ┆ datetime    │\n",
      "│ ---       ┆ ---          ┆ ---          ┆ v            ┆ v           ┆ ts          ┆ ---         │\n",
      "│ u64       ┆ u64          ┆ str          ┆ ---          ┆ ---         ┆ ---         ┆ datetime[μs │\n",
      "│           ┆              ┆              ┆ f64          ┆ f64         ┆ f64         ┆ ]           │\n",
      "╞═══════════╪══════════════╪══════════════╪══════════════╪═════════════╪═════════════╪═════════════╡\n",
      "│ 2048      ┆ 112589990682 ┆ Ternary      ┆ 0.707107     ┆ 0.3908      ┆ 128.000375  ┆ 2025-02-28  │\n",
      "│           ┆ 6241         ┆              ┆              ┆             ┆             ┆ 14:41:14.67 │\n",
      "│           ┆              ┆              ┆              ┆             ┆             ┆ 7156        │\n",
      "└───────────┴──────────────┴──────────────┴──────────────┴─────────────┴─────────────┴─────────────┘\n"
     ]
    }
   ],
   "source": [
    "check_security_with_data(\n",
    "    N2, Q2, bsk2_key_type, bsk2_key_distribution, bsk2_nosie_stddev\n",
    ")"
   ]
  }
 ],
 "metadata": {
  "kernelspec": {
   "display_name": "sage",
   "language": "python",
   "name": "python3"
  },
  "language_info": {
   "codemirror_mode": {
    "name": "ipython",
    "version": 3
   },
   "file_extension": ".py",
   "mimetype": "text/x-python",
   "name": "python",
   "nbconvert_exporter": "python",
   "pygments_lexer": "ipython3",
   "version": "3.11.10"
  }
 },
 "nbformat": 4,
 "nbformat_minor": 2
}
