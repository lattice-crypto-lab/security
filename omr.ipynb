{
 "cells": [
  {
   "cell_type": "code",
   "execution_count": 1,
   "metadata": {},
   "outputs": [],
   "source": [
    "from estimator.estimator import *\n",
    "from utils import *"
   ]
  },
  {
   "cell_type": "code",
   "execution_count": 2,
   "metadata": {},
   "outputs": [],
   "source": [
    "# LWE\n",
    "n1 = 512\n",
    "q1 = 2048\n",
    "\n",
    "lwe1_key_type = \"Binary\"\n",
    "lwe1_noise_stddev = 0.83\n",
    "lwe1_key_distribution = ND.SparseBinary(n1 // 2, n1)\n",
    "\n",
    "# lwe1_key_type = \"Ternary\"\n",
    "# lwe1_noise_stddev = 0.63\n",
    "# lwe1_key_distribution = ND.SparseTernary(n1 // 4, n1 // 4, n1)"
   ]
  },
  {
   "cell_type": "code",
   "execution_count": 3,
   "metadata": {},
   "outputs": [
    {
     "name": "stdout",
     "output_type": "stream",
     "text": [
      "LWEParameters(n=512, q=2048, Xs=T(p=256, m=0, n=512), Xe=D(σ=0.83), m=+Infinity, tag=None)\n"
     ]
    },
    {
     "name": "stderr",
     "output_type": "stream",
     "text": [
      "/home/lhf/miniforge3/envs/sage/lib/python3.11/multiprocessing/popen_fork.py:66: RuntimeWarning: Using fork() can cause Polars to deadlock in the child process.\n",
      "In addition, using fork() with Python in general is a recipe for mysterious\n",
      "deadlocks and crashes.\n",
      "\n",
      "The most likely reason you are seeing this error is because you are using the\n",
      "multiprocessing module on Linux, which uses fork() by default. This will be\n",
      "fixed in Python 3.14. Until then, you want to use the \"spawn\" context instead.\n",
      "\n",
      "See https://docs.pola.rs/user-guide/misc/multiprocessing/ for details.\n",
      "\n",
      "  self.pid = os.fork()\n"
     ]
    },
    {
     "name": "stdout",
     "output_type": "stream",
     "text": [
      "usvp                 :: rop: ≈2^133.2, red: ≈2^133.2, δ: 1.004315, β: 356, d: 893, tag: usvp\n",
      "bdd                  :: rop: ≈2^128.0, red: ≈2^127.0, svp: ≈2^127.1, β: 335, η: 379, d: 868, tag: bdd\n",
      "dual                 :: rop: ≈2^138.2, mem: ≈2^85.9, m: 423, β: 373, d: 935, ↻: 1, tag: dual\n",
      "shape: (1, 7)\n",
      "┌───────────┬─────────┬──────────────┬───────────────┬──────────────┬───────────────┬──────────────┐\n",
      "│ dimension ┆ modulus ┆ secret_distr ┆ secret_stddev ┆ noise_stddev ┆ security_bits ┆ datetime     │\n",
      "│ ---       ┆ ---     ┆ ---          ┆ ---           ┆ ---          ┆ ---           ┆ ---          │\n",
      "│ u64       ┆ u64     ┆ str          ┆ f64           ┆ f64          ┆ f64           ┆ datetime[μs] │\n",
      "╞═══════════╪═════════╪══════════════╪═══════════════╪══════════════╪═══════════════╪══════════════╡\n",
      "│ 512       ┆ 2048    ┆ Binary       ┆ 0.5           ┆ 0.83         ┆ 128.025423    ┆ 2025-01-11   │\n",
      "│           ┆         ┆              ┆               ┆              ┆               ┆ 15:22:15.263 │\n",
      "│           ┆         ┆              ┆               ┆              ┆               ┆ 406          │\n",
      "└───────────┴─────────┴──────────────┴───────────────┴──────────────┴───────────────┴──────────────┘\n"
     ]
    }
   ],
   "source": [
    "check_security_with_data(\n",
    "    n1, q1, lwe1_key_type, lwe1_key_distribution, lwe1_noise_stddev\n",
    ")"
   ]
  },
  {
   "cell_type": "code",
   "execution_count": 4,
   "metadata": {},
   "outputs": [],
   "source": [
    "# BSK 1\n",
    "N1 = 1024\n",
    "Q1 = Q27_10\n",
    "\n",
    "# bsk1_key_type = \"Binary\"\n",
    "# bsk1_stddev = 4.49\n",
    "# bsk1_key_distribution = ND.SparseBinary(N1 // 2, N1)\n",
    "\n",
    "bsk1_key_type = \"Ternary\"\n",
    "bsk1_stddev = 3.2\n",
    "bsk1_key_distribution = ND.SparseTernary(N1 // 4, N1 // 4, N1)"
   ]
  },
  {
   "cell_type": "code",
   "execution_count": 5,
   "metadata": {},
   "outputs": [
    {
     "name": "stdout",
     "output_type": "stream",
     "text": [
      "LWEParameters(n=1024, q=134215681, Xs=T(p=256, m=256, n=1024), Xe=D(σ=3.20), m=+Infinity, tag=None)\n",
      "usvp                 :: rop: ≈2^130.5, red: ≈2^130.5, δ: 1.004425, β: 343, d: 1937, tag: usvp\n",
      "bdd                  :: rop: ≈2^128.0, red: ≈2^127.8, svp: ≈2^125.0, β: 334, η: 372, d: 1931, tag: bdd\n",
      "dual                 :: rop: ≈2^132.9, mem: ≈2^81.3, m: 990, β: 351, d: 2014, ↻: 1, tag: dual\n",
      "shape: (1, 7)\n",
      "┌───────────┬───────────┬──────────────┬──────────────┬──────────────┬──────────────┬──────────────┐\n",
      "│ dimension ┆ modulus   ┆ secret_distr ┆ secret_stdde ┆ noise_stddev ┆ security_bit ┆ datetime     │\n",
      "│ ---       ┆ ---       ┆ ---          ┆ v            ┆ ---          ┆ s            ┆ ---          │\n",
      "│ u64       ┆ u64       ┆ str          ┆ ---          ┆ f64          ┆ ---          ┆ datetime[μs] │\n",
      "│           ┆           ┆              ┆ f64          ┆              ┆ f64          ┆              │\n",
      "╞═══════════╪═══════════╪══════════════╪══════════════╪══════════════╪══════════════╪══════════════╡\n",
      "│ 1024      ┆ 134215681 ┆ Ternary      ┆ 0.707107     ┆ 3.2          ┆ 128.034311   ┆ 2025-01-11   │\n",
      "│           ┆           ┆              ┆              ┆              ┆              ┆ 15:22:16.692 │\n",
      "│           ┆           ┆              ┆              ┆              ┆              ┆ 669          │\n",
      "└───────────┴───────────┴──────────────┴──────────────┴──────────────┴──────────────┴──────────────┘\n"
     ]
    }
   ],
   "source": [
    "check_security_with_data(N1, Q1, bsk1_key_type, bsk1_key_distribution, bsk1_stddev)"
   ]
  },
  {
   "cell_type": "code",
   "execution_count": 6,
   "metadata": {},
   "outputs": [],
   "source": [
    "n2 = 1024\n",
    "\n",
    "ksk_type = \"Binary\"\n",
    "ksk_noise_stddev = 4.49\n",
    "ksk_distribution = ND.SparseBinary(n2 // 2, n2)\n",
    "\n",
    "# ksk_type = \"Ternary\"\n",
    "# ksk_noise_stddev = 3.2\n",
    "# ksk_distribution = ND.SparseTernary(n2 // 4, n2 // 4, n2)"
   ]
  },
  {
   "cell_type": "code",
   "execution_count": 7,
   "metadata": {},
   "outputs": [
    {
     "name": "stdout",
     "output_type": "stream",
     "text": [
      "LWEParameters(n=1024, q=134215681, Xs=T(p=512, m=0, n=1024), Xe=D(σ=4.49), m=+Infinity, tag=None)\n",
      "usvp                 :: rop: ≈2^130.2, red: ≈2^130.2, δ: 1.004434, β: 342, d: 1905, tag: usvp\n",
      "bdd                  :: rop: ≈2^128.2, red: ≈2^127.7, svp: ≈2^126.5, β: 334, η: 377, d: 1803, tag: bdd\n",
      "dual                 :: rop: ≈2^132.5, mem: ≈2^81.1, m: 947, β: 350, d: 1971, ↻: 1, tag: dual\n",
      "shape: (1, 7)\n",
      "┌───────────┬───────────┬──────────────┬──────────────┬──────────────┬──────────────┬──────────────┐\n",
      "│ dimension ┆ modulus   ┆ secret_distr ┆ secret_stdde ┆ noise_stddev ┆ security_bit ┆ datetime     │\n",
      "│ ---       ┆ ---       ┆ ---          ┆ v            ┆ ---          ┆ s            ┆ ---          │\n",
      "│ u64       ┆ u64       ┆ str          ┆ ---          ┆ f64          ┆ ---          ┆ datetime[μs] │\n",
      "│           ┆           ┆              ┆ f64          ┆              ┆ f64          ┆              │\n",
      "╞═══════════╪═══════════╪══════════════╪══════════════╪══════════════╪══════════════╪══════════════╡\n",
      "│ 1024      ┆ 134215681 ┆ Binary       ┆ 0.5          ┆ 4.49         ┆ 128.247523   ┆ 2025-01-11   │\n",
      "│           ┆           ┆              ┆              ┆              ┆              ┆ 15:22:18.057 │\n",
      "│           ┆           ┆              ┆              ┆              ┆              ┆ 794          │\n",
      "└───────────┴───────────┴──────────────┴──────────────┴──────────────┴──────────────┴──────────────┘\n"
     ]
    }
   ],
   "source": [
    "check_security_with_data(n2, Q1, ksk_type, ksk_distribution, ksk_noise_stddev)"
   ]
  },
  {
   "cell_type": "code",
   "execution_count": 32,
   "metadata": {},
   "outputs": [],
   "source": [
    "N2 = 2048\n",
    "Q2 = Q50_11\n",
    "\n",
    "# bsk2_key_type = \"Binary\"\n",
    "# bsk2_nosie_stddev = 4.63\n",
    "# bsk2_key_distribution = ND.SparseBinary(N2 // 2, N2)\n",
    "\n",
    "bsk2_key_type = \"Ternary\"\n",
    "bsk2_nosie_stddev = 0.4\n",
    "bsk2_key_distribution = ND.SparseTernary(N2 // 4, N2 // 4, N2)"
   ]
  },
  {
   "cell_type": "code",
   "execution_count": 33,
   "metadata": {},
   "outputs": [
    {
     "name": "stdout",
     "output_type": "stream",
     "text": [
      "LWEParameters(n=2048, q=2251799813640193, Xs=T(p=512, m=512, n=2048), Xe=D(σ=0.55), m=+Infinity, tag=None)\n",
      "Algorithm functools.partial(<function dual at 0x7fbf7b6c0f40>, red_cost_model=<estimator.estimator.reduction.BDGL16 object at 0x7fbf7b840350>) on LWEParameters(n=2048, q=2251799813640193, Xs=D(σ=0.55), Xe=D(σ=0.55), m=+Infinity, tag=None) failed with Unknown how to exploit sparsity of D(σ=0.55, μ=0.00, n=2048)\n",
      "usvp                 :: rop: ≈2^129.4, red: ≈2^129.4, δ: 1.004488, β: 336, d: 3872, tag: usvp\n",
      "bdd                  :: rop: ≈2^128.1, red: ≈2^127.7, svp: ≈2^125.9, β: 330, η: 375, d: 3970, tag: bdd\n",
      "shape: (1, 7)\n",
      "┌───────────┬──────────────┬──────────────┬──────────────┬─────────────┬─────────────┬─────────────┐\n",
      "│ dimension ┆ modulus      ┆ secret_distr ┆ secret_stdde ┆ noise_stdde ┆ security_bi ┆ datetime    │\n",
      "│ ---       ┆ ---          ┆ ---          ┆ v            ┆ v           ┆ ts          ┆ ---         │\n",
      "│ u64       ┆ u64          ┆ str          ┆ ---          ┆ ---         ┆ ---         ┆ datetime[μs │\n",
      "│           ┆              ┆              ┆ f64          ┆ f64         ┆ f64         ┆ ]           │\n",
      "╞═══════════╪══════════════╪══════════════╪══════════════╪═════════════╪═════════════╪═════════════╡\n",
      "│ 2048      ┆ 225179981364 ┆ Ternary      ┆ 0.707107     ┆ 0.55        ┆ 128.075815  ┆ 2025-01-11  │\n",
      "│           ┆ 0193         ┆              ┆              ┆             ┆             ┆ 15:49:28.30 │\n",
      "│           ┆              ┆              ┆              ┆             ┆             ┆ 3323        │\n",
      "└───────────┴──────────────┴──────────────┴──────────────┴─────────────┴─────────────┴─────────────┘\n"
     ]
    }
   ],
   "source": [
    "check_security_with_data(\n",
    "    N2, Q2, bsk2_key_type, bsk2_key_distribution, bsk2_nosie_stddev\n",
    ")"
   ]
  }
 ],
 "metadata": {
  "kernelspec": {
   "display_name": "sage",
   "language": "python",
   "name": "python3"
  },
  "language_info": {
   "codemirror_mode": {
    "name": "ipython",
    "version": 3
   },
   "file_extension": ".py",
   "mimetype": "text/x-python",
   "name": "python",
   "nbconvert_exporter": "python",
   "pygments_lexer": "ipython3",
   "version": "3.11.10"
  }
 },
 "nbformat": 4,
 "nbformat_minor": 2
}
