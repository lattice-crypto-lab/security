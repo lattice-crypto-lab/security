{
 "cells": [
  {
   "cell_type": "code",
   "execution_count": 1,
   "id": "69b6f254",
   "metadata": {},
   "outputs": [],
   "source": [
    "from estimator.estimator import *\n",
    "from utils import *"
   ]
  },
  {
   "cell_type": "code",
   "execution_count": 14,
   "id": "c8efacb5",
   "metadata": {},
   "outputs": [],
   "source": [
    "# LWE and RLWE\n",
    "n = 2048\n",
    "q = QXX\n",
    "\n",
    "# lwe_key_type = \"Binary\"\n",
    "# lwe_noise_stddev = 4.098\n",
    "# lwe_key_distribution = ND.SparseBinary(n // 2, n)\n",
    "\n",
    "lwe_key_type = \"Ternary\"\n",
    "lwe_noise_stddev = 3.19 * (2**7)\n",
    "lwe_key_distribution = ND.SparseTernary(n // 4, n // 4, n)"
   ]
  },
  {
   "cell_type": "code",
   "execution_count": 15,
   "id": "32af01c0",
   "metadata": {},
   "outputs": [
    {
     "name": "stdout",
     "output_type": "stream",
     "text": [
      "LWEParameters(n=2048, q=2305843009213693951, Xs=T(p=512, m=512, n=2048), Xe=D(σ=408.32), m=+Infinity, tag=None)\n",
      "usvp                 :: rop: ≈2^129.2, red: ≈2^129.2, δ: 1.004497, β: 335, d: 3922, tag: usvp\n",
      "bdd                  :: rop: ≈2^128.5, red: ≈2^128.5, svp: ≈2^122.1, β: 333, η: 362, d: 3798, tag: bdd\n",
      "dual                 :: rop: ≈2^130.4, mem: ≈2^78.7, m: 2018, β: 339, d: 4066, ↻: 1, tag: dual\n",
      "shape: (1, 7)\n",
      "┌───────────┬──────────────┬──────────────┬──────────────┬─────────────┬─────────────┬─────────────┐\n",
      "│ dimension ┆ modulus      ┆ secret_distr ┆ secret_stdde ┆ noise_stdde ┆ security_bi ┆ datetime    │\n",
      "│ ---       ┆ ---          ┆ ---          ┆ v            ┆ v           ┆ ts          ┆ ---         │\n",
      "│ u64       ┆ u64          ┆ str          ┆ ---          ┆ ---         ┆ ---         ┆ datetime[μs │\n",
      "│           ┆              ┆              ┆ f64          ┆ f64         ┆ f64         ┆ ]           │\n",
      "╞═══════════╪══════════════╪══════════════╪══════════════╪═════════════╪═════════════╪═════════════╡\n",
      "│ 2048      ┆ 230584300921 ┆ Ternary      ┆ 0.707107     ┆ 408.32      ┆ 128.54374   ┆ 2025-06-20  │\n",
      "│           ┆ 3693951      ┆              ┆              ┆             ┆             ┆ 15:58:19.76 │\n",
      "│           ┆              ┆              ┆              ┆             ┆             ┆ 2857        │\n",
      "└───────────┴──────────────┴──────────────┴──────────────┴─────────────┴─────────────┴─────────────┘\n"
     ]
    }
   ],
   "source": [
    "check_security_with_data(\n",
    "    n, q, lwe_key_type, lwe_key_distribution, lwe_noise_stddev, force_run_estimate=False\n",
    ")"
   ]
  },
  {
   "cell_type": "code",
   "execution_count": 26,
   "id": "d2969702",
   "metadata": {},
   "outputs": [],
   "source": [
    "n2 = 1024\n",
    "Q_KS = QXX\n",
    "\n",
    "ksk_type = \"Binary\"\n",
    "ksk_noise_stddev = 3.4 * (1 << 34)\n",
    "ksk_distribution = ND.SparseBinary(n2 // 2, n2)\n",
    "\n",
    "# ksk_type = \"Ternary\"\n",
    "# ksk_noise_stddev = 3.2\n",
    "# ksk_distribution = ND.SparseTernary(n2 // 4, n2 // 4, n2)"
   ]
  },
  {
   "cell_type": "code",
   "execution_count": 27,
   "id": "6e7eaecd",
   "metadata": {},
   "outputs": [
    {
     "name": "stdout",
     "output_type": "stream",
     "text": [
      "LWEParameters(n=1024, q=2305843009213693951, Xs=T(p=512, m=0, n=1024), Xe=D(σ=58411555225.60), m=+Infinity, tag=None)\n",
      "usvp                 :: rop: ≈2^128.1, red: ≈2^128.1, δ: 1.004497, β: 335, d: 1905, tag: usvp\n",
      "bdd                  :: rop: ≈2^146.9, red: ≈2^118.2, svp: ≈2^146.9, β: 301, η: 447, d: 1867, tag: bdd\n",
      "dual                 :: rop: ≈2^130.5, mem: ≈2^79.6, m: 950, β: 343, d: 1974, ↻: 1, tag: dual\n",
      "shape: (1, 7)\n",
      "┌───────────┬──────────────┬──────────────┬──────────────┬─────────────┬─────────────┬─────────────┐\n",
      "│ dimension ┆ modulus      ┆ secret_distr ┆ secret_stdde ┆ noise_stdde ┆ security_bi ┆ datetime    │\n",
      "│ ---       ┆ ---          ┆ ---          ┆ v            ┆ v           ┆ ts          ┆ ---         │\n",
      "│ u64       ┆ u64          ┆ str          ┆ ---          ┆ ---         ┆ ---         ┆ datetime[μs │\n",
      "│           ┆              ┆              ┆ f64          ┆ f64         ┆ f64         ┆ ]           │\n",
      "╞═══════════╪══════════════╪══════════════╪══════════════╪═════════════╪═════════════╪═════════════╡\n",
      "│ 1024      ┆ 230584300921 ┆ Binary       ┆ 0.5          ┆ 5.8412e10   ┆ 128.115575  ┆ 2025-06-20  │\n",
      "│           ┆ 3693951      ┆              ┆              ┆             ┆             ┆ 15:58:54.06 │\n",
      "│           ┆              ┆              ┆              ┆             ┆             ┆ 6940        │\n",
      "└───────────┴──────────────┴──────────────┴──────────────┴─────────────┴─────────────┴─────────────┘\n"
     ]
    }
   ],
   "source": [
    "check_security_with_data(n2, Q_KS, ksk_type, ksk_distribution, ksk_noise_stddev)"
   ]
  }
 ],
 "metadata": {
  "kernelspec": {
   "display_name": "sage",
   "language": "python",
   "name": "python3"
  },
  "language_info": {
   "codemirror_mode": {
    "name": "ipython",
    "version": 3
   },
   "file_extension": ".py",
   "mimetype": "text/x-python",
   "name": "python",
   "nbconvert_exporter": "python",
   "pygments_lexer": "ipython3",
   "version": "3.11.10"
  }
 },
 "nbformat": 4,
 "nbformat_minor": 5
}
