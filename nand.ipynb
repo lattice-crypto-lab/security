{
 "cells": [
  {
   "cell_type": "code",
   "execution_count": 21,
   "id": "1000efa1",
   "metadata": {},
   "outputs": [],
   "source": [
    "from estimator.estimator import *\n",
    "from utils import *"
   ]
  },
  {
   "cell_type": "code",
   "execution_count": null,
   "id": "bcdb552e",
   "metadata": {},
   "outputs": [],
   "source": [
    "n=1024\n",
    "q=2**10\n",
    "\n",
    "key_type = \"Binary\"\n",
    "stddev = 0.5\n",
    "key_distribution = ND.SparseBinary(n // 2, n)\n",
    "\n",
    "# key_type = \"Ternary\"\n",
    "# stddev = 0.5\n",
    "# key_distribution = ND.SparseTernary(n // 4, n // 4, n)"
   ]
  },
  {
   "cell_type": "code",
   "execution_count": 127,
   "id": "580c0071",
   "metadata": {},
   "outputs": [
    {
     "name": "stdout",
     "output_type": "stream",
     "text": [
      "LWEParameters(n=1024, q=16384, Xs=T(p=512, m=0, n=1024), Xe=D(σ=0.50), m=+Infinity, tag=None)\n",
      "usvp                 :: rop: ≈2^210.4, red: ≈2^210.4, δ: 1.002926, β: 617, d: 1789, tag: usvp\n",
      "bdd                  :: rop: ≈2^205.5, red: ≈2^204.5, svp: ≈2^204.4, β: 597, η: 644, d: 1813, tag: bdd\n",
      "dual                 :: rop: ≈2^216.0, mem: ≈2^141.3, m: 841, β: 636, d: 1865, ↻: 1, tag: dual\n",
      "shape: (1, 7)\n",
      "┌───────────┬─────────┬──────────────┬───────────────┬──────────────┬───────────────┬──────────────┐\n",
      "│ dimension ┆ modulus ┆ secret_distr ┆ secret_stddev ┆ noise_stddev ┆ security_bits ┆ datetime     │\n",
      "│ ---       ┆ ---     ┆ ---          ┆ ---           ┆ ---          ┆ ---           ┆ ---          │\n",
      "│ u64       ┆ u64     ┆ str          ┆ f64           ┆ f64          ┆ f64           ┆ datetime[μs] │\n",
      "╞═══════════╪═════════╪══════════════╪═══════════════╪══════════════╪═══════════════╪══════════════╡\n",
      "│ 1024      ┆ 16384   ┆ Binary       ┆ 0.5           ┆ 0.5          ┆ 205.498951    ┆ 2025-06-10   │\n",
      "│           ┆         ┆              ┆               ┆              ┆               ┆ 11:33:53.323 │\n",
      "│           ┆         ┆              ┆               ┆              ┆               ┆ 068          │\n",
      "└───────────┴─────────┴──────────────┴───────────────┴──────────────┴───────────────┴──────────────┘\n"
     ]
    }
   ],
   "source": [
    "check_security_with_data(n, q, key_type, key_distribution, stddev)"
   ]
  },
  {
   "cell_type": "code",
   "execution_count": 128,
   "id": "12805b3f",
   "metadata": {},
   "outputs": [],
   "source": [
    "N = 2048\n",
    "Q = QGoldilocks\n",
    "\n",
    "key_type = \"Binary\"\n",
    "stddev = 3600\n",
    "key_distribution = ND.SparseBinary(N // 2, N)\n",
    "\n",
    "# key_type = \"Ternary\"\n",
    "# stddev = 2540\n",
    "# key_distribution = ND.SparseTernary(N // 4, N // 4, N)"
   ]
  },
  {
   "cell_type": "code",
   "execution_count": 129,
   "id": "c80ef453",
   "metadata": {},
   "outputs": [
    {
     "name": "stdout",
     "output_type": "stream",
     "text": [
      "shape: (1, 7)\n",
      "┌───────────┬──────────────┬──────────────┬──────────────┬─────────────┬─────────────┬─────────────┐\n",
      "│ dimension ┆ modulus      ┆ secret_distr ┆ secret_stdde ┆ noise_stdde ┆ security_bi ┆ datetime    │\n",
      "│ ---       ┆ ---          ┆ ---          ┆ v            ┆ v           ┆ ts          ┆ ---         │\n",
      "│ u64       ┆ u64          ┆ str          ┆ ---          ┆ ---         ┆ ---         ┆ datetime[μs │\n",
      "│           ┆              ┆              ┆ f64          ┆ f64         ┆ f64         ┆ ]           │\n",
      "╞═══════════╪══════════════╪══════════════╪══════════════╪═════════════╪═════════════╪═════════════╡\n",
      "│ 2048      ┆ 184467440694 ┆ Binary       ┆ 0.5          ┆ 3600.0      ┆ 128.198164  ┆ 2025-06-10  │\n",
      "│           ┆ 14584321     ┆              ┆              ┆             ┆             ┆ 11:15:57.40 │\n",
      "│           ┆              ┆              ┆              ┆             ┆             ┆ 2349        │\n",
      "└───────────┴──────────────┴──────────────┴──────────────┴─────────────┴─────────────┴─────────────┘\n"
     ]
    }
   ],
   "source": [
    "check_security_with_data(N, Q, key_type, key_distribution, stddev)"
   ]
  }
 ],
 "metadata": {
  "kernelspec": {
   "display_name": "sage",
   "language": "python",
   "name": "python3"
  },
  "language_info": {
   "codemirror_mode": {
    "name": "ipython",
    "version": 3
   },
   "file_extension": ".py",
   "mimetype": "text/x-python",
   "name": "python",
   "nbconvert_exporter": "python",
   "pygments_lexer": "ipython3",
   "version": "3.11.10"
  }
 },
 "nbformat": 4,
 "nbformat_minor": 5
}
