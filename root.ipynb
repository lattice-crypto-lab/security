{
 "cells": [
  {
   "cell_type": "code",
   "execution_count": 12,
   "metadata": {},
   "outputs": [
    {
     "name": "stdout",
     "output_type": "stream",
     "text": [
      "72057594037934081\n",
      "51367021279035970\n",
      "42966128910475\n",
      "1\n"
     ]
    }
   ],
   "source": [
    "size = 2 ^ 56\n",
    "p = next_prime(size)\n",
    "while (p - 1) % 1024 != 0:\n",
    "    p = next_prime(p)\n",
    "print(p)\n",
    "\n",
    "FF = GF(p)\n",
    "a = FF(primitive_root(p))\n",
    "d = (p - 1) / 1024\n",
    "r = a ^ d\n",
    "\n",
    "print(r)\n",
    "\n",
    "min_number = p + 1\n",
    "for i in range(1, 1024):\n",
    "    rr = r ^ i\n",
    "    if int(rr) < min_number:\n",
    "        min_number = int(rr)\n",
    "print(min_number)\n",
    "print(p - r ^ 512)\n",
    "# primitive_root?"
   ]
  }
 ],
 "metadata": {
  "kernelspec": {
   "display_name": "SageMath 10.4",
   "language": "sage",
   "name": "sagemath"
  },
  "language_info": {
   "codemirror_mode": {
    "name": "ipython",
    "version": 3
   },
   "file_extension": ".py",
   "mimetype": "text/x-python",
   "name": "python",
   "nbconvert_exporter": "python",
   "pygments_lexer": "ipython3",
   "version": "3.11.10"
  }
 },
 "nbformat": 4,
 "nbformat_minor": 2
}
