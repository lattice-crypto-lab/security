{
 "cells": [
  {
   "cell_type": "code",
   "execution_count": 1,
   "metadata": {},
   "outputs": [],
   "source": [
    "from estimator.estimator import *\n",
    "from utils import *"
   ]
  },
  {
   "cell_type": "code",
   "execution_count": 136,
   "metadata": {},
   "outputs": [],
   "source": [
    "# LWE\n",
    "n1 = 1024\n",
    "q = Q56_11\n",
    "\n",
    "lwe_key_type = \"Binary\"\n",
    "lwe_noise_stddev = 3.2 * (1 << 29)\n",
    "lwe_key_distribution = ND.SparseBinary(n1 // 2, n1)\n",
    "\n",
    "# lwe_key_type = \"Ternary\"\n",
    "# lwe_noise_stddev = 3.2 * 4\n",
    "# lwe_key_distribution = ND.SparseTernary(n1 // 4, n1 // 4, n1)"
   ]
  },
  {
   "cell_type": "code",
   "execution_count": 137,
   "metadata": {},
   "outputs": [
    {
     "name": "stdout",
     "output_type": "stream",
     "text": [
      "shape: (1, 7)\n",
      "┌───────────┬──────────────┬──────────────┬──────────────┬─────────────┬─────────────┬─────────────┐\n",
      "│ dimension ┆ modulus      ┆ secret_distr ┆ secret_stdde ┆ noise_stdde ┆ security_bi ┆ datetime    │\n",
      "│ ---       ┆ ---          ┆ ---          ┆ v            ┆ v           ┆ ts          ┆ ---         │\n",
      "│ u64       ┆ u64          ┆ str          ┆ ---          ┆ ---         ┆ ---         ┆ datetime[μs │\n",
      "│           ┆              ┆              ┆ f64          ┆ f64         ┆ f64         ┆ ]           │\n",
      "╞═══════════╪══════════════╪══════════════╪══════════════╪═════════════╪═════════════╪═════════════╡\n",
      "│ 1024      ┆ 720575940376 ┆ Binary       ┆ 0.5          ┆ 1.7180e9    ┆ 127.802981  ┆ 2024-12-10  │\n",
      "│           ┆ 41217        ┆              ┆              ┆             ┆             ┆ 22:44:06.77 │\n",
      "│           ┆              ┆              ┆              ┆             ┆             ┆ 9033        │\n",
      "└───────────┴──────────────┴──────────────┴──────────────┴─────────────┴─────────────┴─────────────┘\n"
     ]
    }
   ],
   "source": [
    "check_security_with_data(\n",
    "    n1, q, lwe_key_type, lwe_key_distribution, lwe_noise_stddev\n",
    ")"
   ]
  },
  {
   "cell_type": "code",
   "execution_count": 138,
   "metadata": {},
   "outputs": [],
   "source": [
    "# BSK\n",
    "N = 2048\n",
    "Q = Q56_11\n",
    "\n",
    "# bsk_key_type = \"Binary\"\n",
    "# bsk_stddev = 3.2 * 6\n",
    "# bsk_key_distribution = ND.SparseBinary(N // 2, N)\n",
    "\n",
    "bsk_key_type = \"Ternary\"\n",
    "bsk_stddev = 3.2 * 4\n",
    "bsk_key_distribution = ND.SparseTernary(N // 4, N // 4, N)"
   ]
  },
  {
   "cell_type": "code",
   "execution_count": 139,
   "metadata": {},
   "outputs": [
    {
     "name": "stdout",
     "output_type": "stream",
     "text": [
      "shape: (1, 7)\n",
      "┌───────────┬──────────────┬──────────────┬──────────────┬─────────────┬─────────────┬─────────────┐\n",
      "│ dimension ┆ modulus      ┆ secret_distr ┆ secret_stdde ┆ noise_stdde ┆ security_bi ┆ datetime    │\n",
      "│ ---       ┆ ---          ┆ ---          ┆ v            ┆ v           ┆ ts          ┆ ---         │\n",
      "│ u64       ┆ u64          ┆ str          ┆ ---          ┆ ---         ┆ ---         ┆ datetime[μs │\n",
      "│           ┆              ┆              ┆ f64          ┆ f64         ┆ f64         ┆ ]           │\n",
      "╞═══════════╪══════════════╪══════════════╪══════════════╪═════════════╪═════════════╪═════════════╡\n",
      "│ 2048      ┆ 720575940376 ┆ Ternary      ┆ 0.707107     ┆ 12.8        ┆ 127.906509  ┆ 2024-12-10  │\n",
      "│           ┆ 41217        ┆              ┆              ┆             ┆             ┆ 22:48:06.90 │\n",
      "│           ┆              ┆              ┆              ┆             ┆             ┆ 4940        │\n",
      "└───────────┴──────────────┴──────────────┴──────────────┴─────────────┴─────────────┴─────────────┘\n"
     ]
    }
   ],
   "source": [
    "check_security_with_data(N, Q, bsk_key_type, bsk_key_distribution, bsk_stddev)"
   ]
  },
  {
   "cell_type": "code",
   "execution_count": 140,
   "metadata": {},
   "outputs": [],
   "source": [
    "n2 = 1024\n",
    "Q_KS = Q56_11\n",
    "\n",
    "ksk_type = \"Binary\"\n",
    "ksk_noise_stddev = 3.2 * (1 << 29)\n",
    "ksk_distribution = ND.SparseBinary(n2 // 2, n2)\n",
    "\n",
    "# ksk_type = \"Ternary\"\n",
    "# ksk_noise_stddev = 3.2\n",
    "# ksk_distribution = ND.SparseTernary(n2 // 4, n2 // 4, n2)"
   ]
  },
  {
   "cell_type": "code",
   "execution_count": 141,
   "metadata": {},
   "outputs": [
    {
     "name": "stdout",
     "output_type": "stream",
     "text": [
      "shape: (1, 7)\n",
      "┌───────────┬──────────────┬──────────────┬──────────────┬─────────────┬─────────────┬─────────────┐\n",
      "│ dimension ┆ modulus      ┆ secret_distr ┆ secret_stdde ┆ noise_stdde ┆ security_bi ┆ datetime    │\n",
      "│ ---       ┆ ---          ┆ ---          ┆ v            ┆ v           ┆ ts          ┆ ---         │\n",
      "│ u64       ┆ u64          ┆ str          ┆ ---          ┆ ---         ┆ ---         ┆ datetime[μs │\n",
      "│           ┆              ┆              ┆ f64          ┆ f64         ┆ f64         ┆ ]           │\n",
      "╞═══════════╪══════════════╪══════════════╪══════════════╪═════════════╪═════════════╪═════════════╡\n",
      "│ 1024      ┆ 720575940376 ┆ Binary       ┆ 0.5          ┆ 1.7180e9    ┆ 127.802981  ┆ 2024-12-10  │\n",
      "│           ┆ 41217        ┆              ┆              ┆             ┆             ┆ 22:44:06.77 │\n",
      "│           ┆              ┆              ┆              ┆             ┆             ┆ 9033        │\n",
      "└───────────┴──────────────┴──────────────┴──────────────┴─────────────┴─────────────┴─────────────┘\n"
     ]
    }
   ],
   "source": [
    "check_security_with_data(n2, Q_KS, ksk_type, ksk_distribution, ksk_noise_stddev)"
   ]
  }
 ],
 "metadata": {
  "kernelspec": {
   "display_name": "sage",
   "language": "python",
   "name": "python3"
  },
  "language_info": {
   "codemirror_mode": {
    "name": "ipython",
    "version": 3
   },
   "file_extension": ".py",
   "mimetype": "text/x-python",
   "name": "python",
   "nbconvert_exporter": "python",
   "pygments_lexer": "ipython3",
   "version": "3.11.10"
  }
 },
 "nbformat": 4,
 "nbformat_minor": 2
}
