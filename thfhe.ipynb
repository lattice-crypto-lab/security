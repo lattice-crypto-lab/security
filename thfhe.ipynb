{
 "cells": [
  {
   "cell_type": "code",
   "execution_count": 45,
   "metadata": {},
   "outputs": [],
   "source": [
    "from estimator.estimator import *\n",
    "from utils import *"
   ]
  },
  {
   "cell_type": "code",
   "execution_count": 62,
   "metadata": {},
   "outputs": [],
   "source": [
    "# LWE\n",
    "n1 = 2048\n",
    "q = Q53_11\n",
    "\n",
    "# lwe_key_type = \"Binary\"\n",
    "# lwe_noise_stddev = 4.098\n",
    "# lwe_key_distribution = ND.SparseBinary(n1 // 2, n1)\n",
    "\n",
    "lwe_key_type = \"Ternary\"\n",
    "lwe_noise_stddev = 3.6\n",
    "# lwe_noise_stddev = 4.098\n",
    "lwe_key_distribution = ND.SparseTernary(n1 // 4, n1 // 4, n1)"
   ]
  },
  {
   "cell_type": "code",
   "execution_count": 63,
   "metadata": {},
   "outputs": [
    {
     "name": "stdout",
     "output_type": "stream",
     "text": [
      "LWEParameters(n=2048, q=9007199254614017, Xs=T(p=512, m=512, n=2048), Xe=D(σ=3.60), m=+Infinity, tag=None)\n",
      "usvp                 :: rop: ≈2^132.4, red: ≈2^132.4, δ: 1.004399, β: 346, d: 3898, tag: usvp\n",
      "bdd                  :: rop: ≈2^131.0, red: ≈2^130.9, svp: ≈2^126.8, β: 341, η: 378, d: 3958, tag: bdd\n",
      "dual                 :: rop: ≈2^133.6, mem: ≈2^81.1, m: 2016, β: 350, d: 4064, ↻: 1, tag: dual\n",
      "shape: (1, 7)\n",
      "┌───────────┬──────────────┬──────────────┬──────────────┬─────────────┬─────────────┬─────────────┐\n",
      "│ dimension ┆ modulus      ┆ secret_distr ┆ secret_stdde ┆ noise_stdde ┆ security_bi ┆ datetime    │\n",
      "│ ---       ┆ ---          ┆ ---          ┆ v            ┆ v           ┆ ts          ┆ ---         │\n",
      "│ u64       ┆ u64          ┆ str          ┆ ---          ┆ ---         ┆ ---         ┆ datetime[μs │\n",
      "│           ┆              ┆              ┆ f64          ┆ f64         ┆ f64         ┆ ]           │\n",
      "╞═══════════╪══════════════╪══════════════╪══════════════╪═════════════╪═════════════╪═════════════╡\n",
      "│ 2048      ┆ 900719925461 ┆ Ternary      ┆ 0.707107     ┆ 3.6         ┆ 131.001798  ┆ 2025-07-29  │\n",
      "│           ┆ 4017         ┆              ┆              ┆             ┆             ┆ 21:36:25.62 │\n",
      "│           ┆              ┆              ┆              ┆             ┆             ┆ 9366        │\n",
      "└───────────┴──────────────┴──────────────┴──────────────┴─────────────┴─────────────┴─────────────┘\n"
     ]
    }
   ],
   "source": [
    "check_security_with_data(\n",
    "    n1, q, lwe_key_type, lwe_key_distribution, lwe_noise_stddev, force_run_estimate=True\n",
    ")"
   ]
  },
  {
   "cell_type": "code",
   "execution_count": 64,
   "metadata": {},
   "outputs": [],
   "source": [
    "# BSK\n",
    "N = 2048\n",
    "Q = Q53_11\n",
    "\n",
    "# bsk_key_type = \"Binary\"\n",
    "# bsk_stddev = 2.29\n",
    "# bsk_key_distribution = ND.SparseBinary(N // 2, N)\n",
    "\n",
    "bsk_key_type = \"Ternary\"\n",
    "bsk_stddev = 3.6\n",
    "bsk_key_distribution = ND.SparseTernary(N // 4, N // 4, N)"
   ]
  },
  {
   "cell_type": "code",
   "execution_count": 65,
   "metadata": {},
   "outputs": [
    {
     "name": "stdout",
     "output_type": "stream",
     "text": [
      "shape: (1, 7)\n",
      "┌───────────┬──────────────┬──────────────┬──────────────┬─────────────┬─────────────┬─────────────┐\n",
      "│ dimension ┆ modulus      ┆ secret_distr ┆ secret_stdde ┆ noise_stdde ┆ security_bi ┆ datetime    │\n",
      "│ ---       ┆ ---          ┆ ---          ┆ v            ┆ v           ┆ ts          ┆ ---         │\n",
      "│ u64       ┆ u64          ┆ str          ┆ ---          ┆ ---         ┆ ---         ┆ datetime[μs │\n",
      "│           ┆              ┆              ┆ f64          ┆ f64         ┆ f64         ┆ ]           │\n",
      "╞═══════════╪══════════════╪══════════════╪══════════════╪═════════════╪═════════════╪═════════════╡\n",
      "│ 2048      ┆ 900719925461 ┆ Ternary      ┆ 0.707107     ┆ 3.6         ┆ 131.001798  ┆ 2025-07-29  │\n",
      "│           ┆ 4017         ┆              ┆              ┆             ┆             ┆ 21:36:25.62 │\n",
      "│           ┆              ┆              ┆              ┆             ┆             ┆ 9366        │\n",
      "└───────────┴──────────────┴──────────────┴──────────────┴─────────────┴─────────────┴─────────────┘\n"
     ]
    }
   ],
   "source": [
    "check_security_with_data(N, Q, bsk_key_type, bsk_key_distribution, bsk_stddev)"
   ]
  },
  {
   "cell_type": "code",
   "execution_count": 66,
   "metadata": {},
   "outputs": [],
   "source": [
    "n2 = 1024\n",
    "Q_KS = Q53_11\n",
    "\n",
    "ksk_type = \"Binary\"\n",
    "ksk_noise_stddev = 3.4 * (1 << 26)\n",
    "ksk_distribution = ND.SparseBinary(n2 // 2, n2)\n",
    "\n",
    "# ksk_type = \"Ternary\"\n",
    "# ksk_noise_stddev = 3.2\n",
    "# ksk_distribution = ND.SparseTernary(n2 // 4, n2 // 4, n2)"
   ]
  },
  {
   "cell_type": "code",
   "execution_count": 67,
   "metadata": {},
   "outputs": [
    {
     "name": "stdout",
     "output_type": "stream",
     "text": [
      "shape: (1, 7)\n",
      "┌───────────┬──────────────┬──────────────┬──────────────┬─────────────┬─────────────┬─────────────┐\n",
      "│ dimension ┆ modulus      ┆ secret_distr ┆ secret_stdde ┆ noise_stdde ┆ security_bi ┆ datetime    │\n",
      "│ ---       ┆ ---          ┆ ---          ┆ v            ┆ v           ┆ ts          ┆ ---         │\n",
      "│ u64       ┆ u64          ┆ str          ┆ ---          ┆ ---         ┆ ---         ┆ datetime[μs │\n",
      "│           ┆              ┆              ┆ f64          ┆ f64         ┆ f64         ┆ ]           │\n",
      "╞═══════════╪══════════════╪══════════════╪══════════════╪═════════════╪═════════════╪═════════════╡\n",
      "│ 1024      ┆ 900719925461 ┆ Binary       ┆ 0.5          ┆ 2.2817e8    ┆ 128.115575  ┆ 2025-06-17  │\n",
      "│           ┆ 4017         ┆              ┆              ┆             ┆             ┆ 12:29:58.18 │\n",
      "│           ┆              ┆              ┆              ┆             ┆             ┆ 2046        │\n",
      "└───────────┴──────────────┴──────────────┴──────────────┴─────────────┴─────────────┴─────────────┘\n"
     ]
    }
   ],
   "source": [
    "check_security_with_data(n2, Q_KS, ksk_type, ksk_distribution, ksk_noise_stddev)"
   ]
  }
 ],
 "metadata": {
  "kernelspec": {
   "display_name": "sage",
   "language": "python",
   "name": "python3"
  },
  "language_info": {
   "codemirror_mode": {
    "name": "ipython",
    "version": 3
   },
   "file_extension": ".py",
   "mimetype": "text/x-python",
   "name": "python",
   "nbconvert_exporter": "python",
   "pygments_lexer": "ipython3",
   "version": "3.11.10"
  }
 },
 "nbformat": 4,
 "nbformat_minor": 2
}
