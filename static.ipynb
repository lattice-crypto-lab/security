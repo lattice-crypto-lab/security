{
 "cells": [
  {
   "cell_type": "code",
   "execution_count": 1,
   "id": "f85f7439",
   "metadata": {},
   "outputs": [],
   "source": [
    "import numpy as np"
   ]
  },
  {
   "cell_type": "code",
   "execution_count": 2,
   "id": "f0172fd4",
   "metadata": {},
   "outputs": [],
   "source": [
    "new_times = [\n",
    "    9.770414564,\n",
    "    8.652258448,\n",
    "    8.660290569,\n",
    "    9.701637196,\n",
    "    8.664802866,\n",
    "    9.66258449,\n",
    "    8.693872874,\n",
    "    8.640565782,\n",
    "    8.705969228,\n",
    "    8.611453516,\n",
    "]\n",
    "\n",
    "old_times = [\n",
    "    8.350346702,\n",
    "    8.250902144,\n",
    "    8.344258688,\n",
    "    8.269507178,\n",
    "    8.213886718,\n",
    "    8.224990768,\n",
    "    8.290069546,\n",
    "    8.236549477,\n",
    "    8.3016246,\n",
    "    8.243872749,\n",
    "    8.360709806,\n",
    "]"
   ]
  },
  {
   "cell_type": "code",
   "execution_count": 3,
   "id": "812d640c",
   "metadata": {},
   "outputs": [],
   "source": [
    "new_avg = np.mean(new_times)\n",
    "old_avg = np.mean(old_times)"
   ]
  },
  {
   "cell_type": "code",
   "execution_count": 4,
   "id": "1895cdff",
   "metadata": {},
   "outputs": [
    {
     "name": "stdout",
     "output_type": "stream",
     "text": [
      "New 平均值: 8.976384953s\n",
      "Old 平均值: 8.280610761s\n"
     ]
    }
   ],
   "source": [
    "# 打印结果\n",
    "print(f\"New 平均值: {new_avg:.9f}s\")  # 保留9位小数\n",
    "print(f\"Old 平均值: {old_avg:.9f}s\")"
   ]
  }
 ],
 "metadata": {
  "kernelspec": {
   "display_name": "sage",
   "language": "python",
   "name": "python3"
  },
  "language_info": {
   "codemirror_mode": {
    "name": "ipython",
    "version": 3
   },
   "file_extension": ".py",
   "mimetype": "text/x-python",
   "name": "python",
   "nbconvert_exporter": "python",
   "pygments_lexer": "ipython3",
   "version": "3.11.10"
  }
 },
 "nbformat": 4,
 "nbformat_minor": 5
}
