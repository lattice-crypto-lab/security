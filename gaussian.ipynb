{
 "cells": [
  {
   "cell_type": "code",
   "execution_count": 9,
   "id": "13ab34a6",
   "metadata": {},
   "outputs": [],
   "source": [
    "from sage.all import *\n",
    "from sage.stats.distributions.discrete_gaussian_integer import DiscreteGaussianDistributionIntegerSampler\n",
    "import numpy as np"
   ]
  },
  {
   "cell_type": "code",
   "execution_count": 10,
   "id": "8e3649bb",
   "metadata": {},
   "outputs": [
    {
     "name": "stdout",
     "output_type": "stream",
     "text": [
      "expect standard deviation:2.21360000000000\n"
     ]
    }
   ],
   "source": [
    "sigma = RealNumber('2.2136')\n",
    "D = DiscreteGaussianDistributionIntegerSampler(sigma=sigma)\n",
    "print(f\"expect standard deviation:{sigma}\")"
   ]
  },
  {
   "cell_type": "code",
   "execution_count": null,
   "id": "526c0abf",
   "metadata": {},
   "outputs": [],
   "source": [
    "data = [D() for i in range(1 << 17)]"
   ]
  },
  {
   "cell_type": "code",
   "execution_count": 12,
   "id": "1834e7ba",
   "metadata": {},
   "outputs": [],
   "source": [
    "real_mean = np.mean(data)\n",
    "real_sigma = np.std(data)\n",
    "real_variance = real_sigma * real_sigma"
   ]
  },
  {
   "cell_type": "code",
   "execution_count": 13,
   "id": "be95a9df",
   "metadata": {},
   "outputs": [],
   "source": [
    "one_sigma = np.trunc(sigma)\n",
    "two_sigma = np.trunc(sigma * 2.0)\n",
    "three_sigma = np.trunc(sigma * 3.0)\n",
    "four_sigma = np.trunc(sigma * 4.0)\n",
    "five_sigma = np.trunc(sigma * 5.0)\n",
    "six_sigma = np.trunc(sigma * 6.0)\n",
    "one_sigma_count = 0\n",
    "two_sigma_count = 0\n",
    "three_sigma_count = 0\n",
    "four_sigma_count = 0\n",
    "five_sigma_count = 0\n",
    "six_sigma_count = 0"
   ]
  },
  {
   "cell_type": "code",
   "execution_count": 14,
   "id": "51812a90",
   "metadata": {},
   "outputs": [],
   "source": [
    "intervals = {\n",
    "    \"1σ\": (-one_sigma, one_sigma),\n",
    "    \"2σ\": (-two_sigma, two_sigma),\n",
    "    \"3σ\": (-three_sigma, three_sigma),\n",
    "    \"4σ\": (-four_sigma, four_sigma),\n",
    "    \"5σ\": (-five_sigma, five_sigma),\n",
    "    \"6σ\": (-six_sigma, six_sigma),\n",
    "}"
   ]
  },
  {
   "cell_type": "code",
   "execution_count": 15,
   "id": "523cd14f",
   "metadata": {},
   "outputs": [],
   "source": [
    "results = {}\n",
    "for key, (lower, upper) in intervals.items():\n",
    "    count = np.sum((data >= lower) & (data <= upper))\n",
    "    probability = count / len(data) * 100\n",
    "    results[key] = {\"count\": count, \"probability\": probability}"
   ]
  },
  {
   "cell_type": "code",
   "execution_count": 16,
   "id": "4f733c6b",
   "metadata": {},
   "outputs": [
    {
     "name": "stdout",
     "output_type": "stream",
     "text": [
      "均值 μ = -0.0002, 标准差 σ = 2.2137\n",
      "\n",
      "1σ 区间 (± 1σ):\n",
      "  数据数量 = 781695\n",
      "  实际概率 = 74.55%\n",
      "  理论概率 ≈ 68.27%\n",
      "\n",
      "2σ 区间 (± 2σ):\n",
      "  数据数量 = 1006224\n",
      "  实际概率 = 95.96%\n",
      "  理论概率 ≈ 95.45%\n",
      "\n",
      "3σ 区间 (± 3σ):\n",
      "  数据数量 = 1045323\n",
      "  实际概率 = 99.69%\n",
      "  理论概率 ≈ 99.73%\n",
      "\n",
      "4σ 区间 (± 4σ):\n",
      "  数据数量 = 1048464\n",
      "  实际概率 = 99.99%\n",
      "  理论概率 ≈ 99.73%\n",
      "\n",
      "5σ 区间 (± 5σ):\n",
      "  数据数量 = 1048576\n",
      "  实际概率 = 100.00%\n",
      "  理论概率 ≈ 99.73%\n",
      "\n",
      "6σ 区间 (± 6σ):\n",
      "  数据数量 = 1048576\n",
      "  实际概率 = 100.00%\n",
      "  理论概率 ≈ 99.73%\n",
      "\n"
     ]
    }
   ],
   "source": [
    "print(f\"均值 μ = {real_mean:.4f}, 标准差 σ = {real_sigma:.4f}\\n\")\n",
    "for key, val in results.items():\n",
    "    print(f\"{key} 区间 (± {int(key[0])}σ):\")\n",
    "    print(f\"  数据数量 = {val['count']}\")\n",
    "    print(f\"  实际概率 = {val['probability']:.2f}%\")\n",
    "    print(f\"  理论概率 ≈ {68.27 if key == '1σ' else 95.45 if key == '2σ' else 99.73}%\")\n",
    "    print()"
   ]
  }
 ],
 "metadata": {
  "kernelspec": {
   "display_name": "sage",
   "language": "python",
   "name": "python3"
  },
  "language_info": {
   "codemirror_mode": {
    "name": "ipython",
    "version": 3
   },
   "file_extension": ".py",
   "mimetype": "text/x-python",
   "name": "python",
   "nbconvert_exporter": "python",
   "pygments_lexer": "ipython3",
   "version": "3.11.10"
  }
 },
 "nbformat": 4,
 "nbformat_minor": 5
}
