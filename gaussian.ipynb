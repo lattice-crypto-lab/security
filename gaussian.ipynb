{
 "cells": [
  {
   "cell_type": "code",
   "execution_count": 1,
   "id": "13ab34a6",
   "metadata": {},
   "outputs": [],
   "source": [
    "from sage.all import *\n",
    "from sage.stats.distributions.discrete_gaussian_integer import DiscreteGaussianDistributionIntegerSampler\n",
    "import numpy as np"
   ]
  },
  {
   "cell_type": "code",
   "execution_count": 2,
   "id": "8e3649bb",
   "metadata": {},
   "outputs": [
    {
     "name": "stdout",
     "output_type": "stream",
     "text": [
      "expect standard deviation:3.00000000000000\n"
     ]
    }
   ],
   "source": [
    "sigma = RealNumber('3.0')\n",
    "D = DiscreteGaussianDistributionIntegerSampler(sigma=sigma)\n",
    "print(f\"expect standard deviation:{sigma}\")"
   ]
  },
  {
   "cell_type": "code",
   "execution_count": 3,
   "id": "526c0abf",
   "metadata": {},
   "outputs": [],
   "source": [
    "data = [D() for i in range(1 << 17)]"
   ]
  },
  {
   "cell_type": "code",
   "execution_count": 4,
   "id": "1834e7ba",
   "metadata": {},
   "outputs": [],
   "source": [
    "real_mean = np.mean(data)\n",
    "real_sigma = np.std(data)\n",
    "real_variance = real_sigma * real_sigma"
   ]
  },
  {
   "cell_type": "code",
   "execution_count": 5,
   "id": "be95a9df",
   "metadata": {},
   "outputs": [],
   "source": [
    "one_sigma = np.trunc(sigma)\n",
    "two_sigma = np.trunc(sigma * 2.0)\n",
    "three_sigma = np.trunc(sigma * 3.0)\n",
    "four_sigma = np.trunc(sigma * 4.0)\n",
    "five_sigma = np.trunc(sigma * 5.0)\n",
    "six_sigma = np.trunc(sigma * 6.0)\n",
    "one_sigma_count = 0\n",
    "two_sigma_count = 0\n",
    "three_sigma_count = 0\n",
    "four_sigma_count = 0\n",
    "five_sigma_count = 0\n",
    "six_sigma_count = 0"
   ]
  },
  {
   "cell_type": "code",
   "execution_count": 6,
   "id": "51812a90",
   "metadata": {},
   "outputs": [],
   "source": [
    "intervals = {\n",
    "    \"1σ\": (-one_sigma, one_sigma),\n",
    "    \"2σ\": (-two_sigma, two_sigma),\n",
    "    \"3σ\": (-three_sigma, three_sigma),\n",
    "    \"4σ\": (-four_sigma, four_sigma),\n",
    "    \"5σ\": (-five_sigma, five_sigma),\n",
    "    \"6σ\": (-six_sigma, six_sigma),\n",
    "}"
   ]
  },
  {
   "cell_type": "code",
   "execution_count": 7,
   "id": "523cd14f",
   "metadata": {},
   "outputs": [],
   "source": [
    "results = {}\n",
    "for key, (lower, upper) in intervals.items():\n",
    "    count = np.sum((data >= lower) & (data <= upper))\n",
    "    probability = count / len(data) * 100\n",
    "    results[key] = {\"count\": count, \"probability\": probability}"
   ]
  },
  {
   "cell_type": "code",
   "execution_count": 8,
   "id": "4f733c6b",
   "metadata": {},
   "outputs": [
    {
     "name": "stdout",
     "output_type": "stream",
     "text": [
      "均值 μ = 0.0014, 标准差 σ = 3.0053\n",
      "\n",
      "1σ 区间 (± 1σ):\n",
      "  数据数量 = 99343\n",
      "  实际概率 = 75.79%\n",
      "  理论概率 ≈ 68.27%\n",
      "\n",
      "2σ 区间 (± 2σ):\n",
      "  数据数量 = 127148\n",
      "  实际概率 = 97.01%\n",
      "  理论概率 ≈ 95.45%\n",
      "\n",
      "3σ 区间 (± 3σ):\n",
      "  数据数量 = 130894\n",
      "  实际概率 = 99.86%\n",
      "  理论概率 ≈ 99.73%\n",
      "\n",
      "4σ 区间 (± 4σ):\n",
      "  数据数量 = 131067\n",
      "  实际概率 = 100.00%\n",
      "  理论概率 ≈ 99.73%\n",
      "\n",
      "5σ 区间 (± 5σ):\n",
      "  数据数量 = 131072\n",
      "  实际概率 = 100.00%\n",
      "  理论概率 ≈ 99.73%\n",
      "\n",
      "6σ 区间 (± 6σ):\n",
      "  数据数量 = 131072\n",
      "  实际概率 = 100.00%\n",
      "  理论概率 ≈ 99.73%\n",
      "\n"
     ]
    }
   ],
   "source": [
    "print(f\"均值 μ = {real_mean:.4f}, 标准差 σ = {real_sigma:.4f}\\n\")\n",
    "for key, val in results.items():\n",
    "    print(f\"{key} 区间 (± {int(key[0])}σ):\")\n",
    "    print(f\"  数据数量 = {val['count']}\")\n",
    "    print(f\"  实际概率 = {val['probability']:.2f}%\")\n",
    "    print(f\"  理论概率 ≈ {68.27 if key == '1σ' else 95.45 if key == '2σ' else 99.73}%\")\n",
    "    print()"
   ]
  },
  {
   "cell_type": "code",
   "execution_count": 11,
   "id": "4090eb13",
   "metadata": {},
   "outputs": [
    {
     "name": "stdout",
     "output_type": "stream",
     "text": [
      "prob[1]=0.1262664794921875\n"
     ]
    }
   ],
   "source": [
    "count = 0\n",
    "for val in data:\n",
    "    if val == 1:\n",
    "        count += 1\n",
    "print(\"prob[1]={}\".format(count / len(data)))"
   ]
  }
 ],
 "metadata": {
  "kernelspec": {
   "display_name": "sage",
   "language": "python",
   "name": "python3"
  },
  "language_info": {
   "codemirror_mode": {
    "name": "ipython",
    "version": 3
   },
   "file_extension": ".py",
   "mimetype": "text/x-python",
   "name": "python",
   "nbconvert_exporter": "python",
   "pygments_lexer": "ipython3",
   "version": "3.11.10"
  }
 },
 "nbformat": 4,
 "nbformat_minor": 5
}
