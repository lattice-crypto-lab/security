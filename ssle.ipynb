{
 "cells": [
  {
   "cell_type": "code",
   "execution_count": 1,
   "id": "86def638",
   "metadata": {},
   "outputs": [],
   "source": [
    "from estimator.estimator import *\n",
    "from utils import *"
   ]
  },
  {
   "cell_type": "code",
   "execution_count": 2,
   "id": "12d75efb",
   "metadata": {},
   "outputs": [],
   "source": [
    "n = 512\n",
    "# q = 15361\n",
    "q = 25601\n",
    "\n",
    "# key_type = \"Binary\"\n",
    "# stddev = 3.19\n",
    "# key_distribution = ND.SparseBinary(n // 2, n)\n",
    "\n",
    "key_type = \"Ternary\"\n",
    "stddev = 3.19\n",
    "key_distribution = ND.SparseTernary(n // 4, n // 4, n)\n",
    "\n",
    "# h = 200\n",
    "# key_type = \"Hamming Weight: {}\".format(h)\n",
    "# stddev = 5.61\n",
    "# key_distribution = ND.SparseBinary(h, n)"
   ]
  },
  {
   "cell_type": "code",
   "execution_count": 3,
   "id": "768365f1",
   "metadata": {},
   "outputs": [
    {
     "name": "stdout",
     "output_type": "stream",
     "text": [
      "shape: (1, 7)\n",
      "┌───────────┬─────────┬──────────────┬───────────────┬──────────────┬───────────────┬──────────────┐\n",
      "│ dimension ┆ modulus ┆ secret_distr ┆ secret_stddev ┆ noise_stddev ┆ security_bits ┆ datetime     │\n",
      "│ ---       ┆ ---     ┆ ---          ┆ ---           ┆ ---          ┆ ---           ┆ ---          │\n",
      "│ u64       ┆ u64     ┆ str          ┆ f64           ┆ f64          ┆ f64           ┆ datetime[μs] │\n",
      "╞═══════════╪═════════╪══════════════╪═══════════════╪══════════════╪═══════════════╪══════════════╡\n",
      "│ 512       ┆ 25601   ┆ Ternary      ┆ 0.707107      ┆ 3.19         ┆ 118.629642    ┆ 2025-08-22   │\n",
      "│           ┆         ┆              ┆               ┆              ┆               ┆ 18:00:28.142 │\n",
      "│           ┆         ┆              ┆               ┆              ┆               ┆ 238          │\n",
      "└───────────┴─────────┴──────────────┴───────────────┴──────────────┴───────────────┴──────────────┘\n"
     ]
    }
   ],
   "source": [
    "check_security_with_data(n, q, key_type, key_distribution, stddev)"
   ]
  },
  {
   "cell_type": "code",
   "execution_count": 4,
   "id": "64f109a8",
   "metadata": {},
   "outputs": [],
   "source": [
    "N = 2048\n",
    "Q = Q61_11\n",
    "\n",
    "# key_type = \"Binary\"\n",
    "# stddev = 4.49\n",
    "# key_distribution = ND.SparseBinary(N // 2, N)\n",
    "\n",
    "key_type = \"Ternary\"\n",
    "stddev = 3.19\n",
    "key_distribution = ND.SparseTernary(N // 4, N // 4, N)"
   ]
  },
  {
   "cell_type": "code",
   "execution_count": 5,
   "id": "de2cd2f5",
   "metadata": {},
   "outputs": [
    {
     "name": "stdout",
     "output_type": "stream",
     "text": [
      "shape: (3, 7)\n",
      "┌───────────┬──────────────┬──────────────┬──────────────┬─────────────┬─────────────┬─────────────┐\n",
      "│ dimension ┆ modulus      ┆ secret_distr ┆ secret_stdde ┆ noise_stdde ┆ security_bi ┆ datetime    │\n",
      "│ ---       ┆ ---          ┆ ---          ┆ v            ┆ v           ┆ ts          ┆ ---         │\n",
      "│ u64       ┆ u64          ┆ str          ┆ ---          ┆ ---         ┆ ---         ┆ datetime[μs │\n",
      "│           ┆              ┆              ┆ f64          ┆ f64         ┆ f64         ┆ ]           │\n",
      "╞═══════════╪══════════════╪══════════════╪══════════════╪═════════════╪═════════════╪═════════════╡\n",
      "│ 2048      ┆ 230584300921 ┆ Ternary      ┆ 0.707107     ┆ 3.19        ┆ 112.013164  ┆ 2025-08-22  │\n",
      "│           ┆ 3616129      ┆              ┆              ┆             ┆             ┆ 21:23:06.36 │\n",
      "│           ┆              ┆              ┆              ┆             ┆             ┆ 7146        │\n",
      "│ 2048      ┆ 230584300921 ┆ Ternary      ┆ 0.707107     ┆ 3.19        ┆ 112.013164  ┆ 2025-08-22  │\n",
      "│           ┆ 3616129      ┆              ┆              ┆             ┆             ┆ 21:32:30.40 │\n",
      "│           ┆              ┆              ┆              ┆             ┆             ┆ 5063        │\n",
      "│ 2048      ┆ 230584300921 ┆ Ternary      ┆ 0.707107     ┆ 3.19        ┆ 112.013164  ┆ 2025-08-22  │\n",
      "│           ┆ 3616129      ┆              ┆              ┆             ┆             ┆ 22:08:36.35 │\n",
      "│           ┆              ┆              ┆              ┆             ┆             ┆ 1880        │\n",
      "└───────────┴──────────────┴──────────────┴──────────────┴─────────────┴─────────────┴─────────────┘\n"
     ]
    }
   ],
   "source": [
    "check_security_with_data(N, Q, key_type, key_distribution, stddev)"
   ]
  },
  {
   "cell_type": "code",
   "execution_count": 46,
   "id": "deae3a00",
   "metadata": {},
   "outputs": [
    {
     "name": "stdout",
     "output_type": "stream",
     "text": [
      "30\n",
      "12\n"
     ]
    }
   ],
   "source": [
    "n = 512\n",
    "N = 2048\n",
    "\n",
    "# G = 64\n",
    "# q = 15361\n",
    "# Q = Q56_11\n",
    "# rgsw_basis = 1 << 3\n",
    "# auto_key_basis = 1 << 6\n",
    "\n",
    "G = 128\n",
    "q = 25601\n",
    "Q = Q61_11\n",
    "rgsw_basis = 1 << 2\n",
    "auto_key_basis = 1 << 5\n",
    "\n",
    "rgsw_ell = int(math.log(Q, rgsw_basis))\n",
    "auto_key_ell = int(math.log(Q, auto_key_basis))\n",
    "\n",
    "print(rgsw_ell)\n",
    "print(auto_key_ell)\n",
    "\n",
    "part_count = (n + 60 + G - 1) / G"
   ]
  },
  {
   "cell_type": "code",
   "execution_count": 47,
   "id": "8c65694b",
   "metadata": {},
   "outputs": [
    {
     "name": "stdout",
     "output_type": "stream",
     "text": [
      "1.9536409378051758\n"
     ]
    }
   ],
   "source": [
    "com_size = (n + 60) * q.bit_length()\n",
    "pk_size = n * 2 * q.bit_length()\n",
    "rgsw_size = 4 * N * Q.bit_length() * rgsw_ell\n",
    "local_election = 2 * N * Q.bit_length() * part_count\n",
    "dec_size = (n + 60) * q.bit_length()\n",
    "\n",
    "broadcast_size = com_size + pk_size + rgsw_size + local_election + dec_size\n",
    "\n",
    "print(broadcast_size / (8 * 1024 * 1024))"
   ]
  },
  {
   "cell_type": "code",
   "execution_count": 48,
   "id": "2b6ad5f1",
   "metadata": {},
   "outputs": [],
   "source": [
    "local_time_for_64_parties = [\n",
    "    146.249674,\n",
    "    151.795684,\n",
    "    148.213056,\n",
    "    143.621727,\n",
    "    152.411743,\n",
    "]  # ms\n",
    "\n",
    "local_time_for_128_parties = [\n",
    "    393.1253,\n",
    "    394.229329,\n",
    "    408.678343,\n",
    "    391.836314,\n",
    "    410.908397,\n",
    "]  # ms"
   ]
  },
  {
   "cell_type": "code",
   "execution_count": 49,
   "id": "71ffe7c3",
   "metadata": {},
   "outputs": [],
   "source": [
    "avg_local_time_for_64_parties = sum(local_time_for_64_parties) / len(\n",
    "    local_time_for_64_parties\n",
    ")\n",
    "avg_local_time_for_128_parties = sum(local_time_for_128_parties) / len(\n",
    "    local_time_for_128_parties\n",
    ")"
   ]
  },
  {
   "cell_type": "code",
   "execution_count": 50,
   "id": "05557aca",
   "metadata": {},
   "outputs": [
    {
     "name": "stdout",
     "output_type": "stream",
     "text": [
      "Average Local Computation time for 64 parties: 148.4583768ms\n",
      "Average Local Computation time for 64 parties: 399.7555366ms\n"
     ]
    }
   ],
   "source": [
    "print(\n",
    "    \"Average Local Computation time for 64 parties: {}ms\".format(\n",
    "        avg_local_time_for_64_parties\n",
    "    )\n",
    ")\n",
    "print(\n",
    "    \"Average Local Computation time for 64 parties: {}ms\".format(\n",
    "        avg_local_time_for_128_parties\n",
    "    )\n",
    ")"
   ]
  }
 ],
 "metadata": {
  "kernelspec": {
   "display_name": "sage",
   "language": "python",
   "name": "python3"
  },
  "language_info": {
   "codemirror_mode": {
    "name": "ipython",
    "version": 3
   },
   "file_extension": ".py",
   "mimetype": "text/x-python",
   "name": "python",
   "nbconvert_exporter": "python",
   "pygments_lexer": "ipython3",
   "version": "3.11.10"
  }
 },
 "nbformat": 4,
 "nbformat_minor": 5
}
