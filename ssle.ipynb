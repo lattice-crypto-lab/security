{
 "cells": [
  {
   "cell_type": "code",
   "execution_count": 1,
   "id": "86def638",
   "metadata": {},
   "outputs": [],
   "source": [
    "from estimator.estimator import *\n",
    "from utils import *"
   ]
  },
  {
   "cell_type": "code",
   "execution_count": 38,
   "id": "12d75efb",
   "metadata": {},
   "outputs": [],
   "source": [
    "n=512\n",
    "q=12289\n",
    "\n",
    "key_type = \"Ternary\"\n",
    "stddev = 3.19\n",
    "key_distribution = ND.SparseTernary(n // 4, n // 4, n)"
   ]
  },
  {
   "cell_type": "code",
   "execution_count": 39,
   "id": "768365f1",
   "metadata": {},
   "outputs": [
    {
     "name": "stdout",
     "output_type": "stream",
     "text": [
      "LWEParameters(n=512, q=12289, Xs=T(p=128, m=128, n=512), Xe=D(σ=3.19), m=+Infinity, tag=None)\n"
     ]
    },
    {
     "name": "stderr",
     "output_type": "stream",
     "text": [
      "/home/lhf/miniforge3/envs/sage/lib/python3.11/multiprocessing/popen_fork.py:66: RuntimeWarning: Using fork() can cause Polars to deadlock in the child process.\n",
      "In addition, using fork() with Python in general is a recipe for mysterious\n",
      "deadlocks and crashes.\n",
      "\n",
      "The most likely reason you are seeing this error is because you are using the\n",
      "multiprocessing module on Linux, which uses fork() by default. This will be\n",
      "fixed in Python 3.14. Until then, you want to use the \"spawn\" context instead.\n",
      "\n",
      "See https://docs.pola.rs/user-guide/misc/multiprocessing/ for details.\n",
      "\n",
      "  self.pid = os.fork()\n"
     ]
    },
    {
     "name": "stdout",
     "output_type": "stream",
     "text": [
      "usvp                 :: rop: ≈2^132.7, red: ≈2^132.7, δ: 1.004331, β: 354, d: 951, tag: usvp\n",
      "bdd                  :: rop: ≈2^128.2, red: ≈2^127.6, svp: ≈2^126.5, β: 337, η: 377, d: 901, tag: bdd\n",
      "dual                 :: rop: ≈2^137.7, mem: ≈2^85.5, m: 472, β: 371, d: 984, ↻: 1, tag: dual\n",
      "shape: (1, 7)\n",
      "┌───────────┬─────────┬──────────────┬───────────────┬──────────────┬───────────────┬──────────────┐\n",
      "│ dimension ┆ modulus ┆ secret_distr ┆ secret_stddev ┆ noise_stddev ┆ security_bits ┆ datetime     │\n",
      "│ ---       ┆ ---     ┆ ---          ┆ ---           ┆ ---          ┆ ---           ┆ ---          │\n",
      "│ u64       ┆ u64     ┆ str          ┆ f64           ┆ f64          ┆ f64           ┆ datetime[μs] │\n",
      "╞═══════════╪═════════╪══════════════╪═══════════════╪══════════════╪═══════════════╪══════════════╡\n",
      "│ 512       ┆ 12289   ┆ Ternary      ┆ 0.707107      ┆ 3.19         ┆ 128.160615    ┆ 2025-07-01   │\n",
      "│           ┆         ┆              ┆               ┆              ┆               ┆ 11:30:45.735 │\n",
      "│           ┆         ┆              ┆               ┆              ┆               ┆ 443          │\n",
      "└───────────┴─────────┴──────────────┴───────────────┴──────────────┴───────────────┴──────────────┘\n"
     ]
    }
   ],
   "source": [
    "check_security_with_data(n, q, key_type, key_distribution, stddev)"
   ]
  },
  {
   "cell_type": "code",
   "execution_count": 40,
   "id": "64f109a8",
   "metadata": {},
   "outputs": [],
   "source": [
    "N = 2048\n",
    "Q = Q50_11\n",
    "\n",
    "# key_type = \"Binary\"\n",
    "# stddev = 4.49\n",
    "# key_distribution = ND.SparseBinary(N // 2, N)\n",
    "\n",
    "key_type = \"Ternary\"\n",
    "stddev = 0.3908\n",
    "key_distribution = ND.SparseTernary(N // 4, N // 4, N)"
   ]
  },
  {
   "cell_type": "code",
   "execution_count": 41,
   "id": "de2cd2f5",
   "metadata": {},
   "outputs": [
    {
     "name": "stdout",
     "output_type": "stream",
     "text": [
      "shape: (1, 7)\n",
      "┌───────────┬──────────────┬──────────────┬──────────────┬─────────────┬─────────────┬─────────────┐\n",
      "│ dimension ┆ modulus      ┆ secret_distr ┆ secret_stdde ┆ noise_stdde ┆ security_bi ┆ datetime    │\n",
      "│ ---       ┆ ---          ┆ ---          ┆ v            ┆ v           ┆ ts          ┆ ---         │\n",
      "│ u64       ┆ u64          ┆ str          ┆ ---          ┆ ---         ┆ ---         ┆ datetime[μs │\n",
      "│           ┆              ┆              ┆ f64          ┆ f64         ┆ f64         ┆ ]           │\n",
      "╞═══════════╪══════════════╪══════════════╪══════════════╪═════════════╪═════════════╪═════════════╡\n",
      "│ 2048      ┆ 112589990682 ┆ Ternary      ┆ 0.707107     ┆ 0.3908      ┆ 128.000375  ┆ 2025-02-28  │\n",
      "│           ┆ 6241         ┆              ┆              ┆             ┆             ┆ 14:41:14.67 │\n",
      "│           ┆              ┆              ┆              ┆             ┆             ┆ 7156        │\n",
      "└───────────┴──────────────┴──────────────┴──────────────┴─────────────┴─────────────┴─────────────┘\n"
     ]
    }
   ],
   "source": [
    "check_security_with_data(N, Q, key_type, key_distribution, stddev)"
   ]
  }
 ],
 "metadata": {
  "kernelspec": {
   "display_name": "sage",
   "language": "python",
   "name": "python3"
  },
  "language_info": {
   "codemirror_mode": {
    "name": "ipython",
    "version": 3
   },
   "file_extension": ".py",
   "mimetype": "text/x-python",
   "name": "python",
   "nbconvert_exporter": "python",
   "pygments_lexer": "ipython3",
   "version": "3.11.10"
  }
 },
 "nbformat": 4,
 "nbformat_minor": 5
}
