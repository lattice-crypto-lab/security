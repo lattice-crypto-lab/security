{
 "cells": [
  {
   "cell_type": "code",
   "execution_count": 1,
   "id": "86def638",
   "metadata": {},
   "outputs": [],
   "source": [
    "from estimator.estimator import *\n",
    "from utils import *"
   ]
  },
  {
   "cell_type": "code",
   "execution_count": 10,
   "id": "12d75efb",
   "metadata": {},
   "outputs": [],
   "source": [
    "n=566\n",
    "q=2**15\n",
    "\n",
    "key_type = \"Ternary\"\n",
    "stddev = 3.19\n",
    "key_distribution = ND.SparseTernary(n // 4, n // 4, n)"
   ]
  },
  {
   "cell_type": "code",
   "execution_count": 11,
   "id": "768365f1",
   "metadata": {},
   "outputs": [
    {
     "name": "stdout",
     "output_type": "stream",
     "text": [
      "shape: (1, 7)\n",
      "┌───────────┬─────────┬──────────────┬───────────────┬──────────────┬───────────────┬──────────────┐\n",
      "│ dimension ┆ modulus ┆ secret_distr ┆ secret_stddev ┆ noise_stddev ┆ security_bits ┆ datetime     │\n",
      "│ ---       ┆ ---     ┆ ---          ┆ ---           ┆ ---          ┆ ---           ┆ ---          │\n",
      "│ u64       ┆ u64     ┆ str          ┆ f64           ┆ f64          ┆ f64           ┆ datetime[μs] │\n",
      "╞═══════════╪═════════╪══════════════╪═══════════════╪══════════════╪═══════════════╪══════════════╡\n",
      "│ 566       ┆ 32768   ┆ Ternary      ┆ 0.705856      ┆ 3.19         ┆ 128.168256    ┆ 2025-06-06   │\n",
      "│           ┆         ┆              ┆               ┆              ┆               ┆ 18:36:24.383 │\n",
      "│           ┆         ┆              ┆               ┆              ┆               ┆ 784          │\n",
      "└───────────┴─────────┴──────────────┴───────────────┴──────────────┴───────────────┴──────────────┘\n"
     ]
    }
   ],
   "source": [
    "check_security_with_data(n, q, key_type, key_distribution, stddev)"
   ]
  },
  {
   "cell_type": "code",
   "execution_count": 20,
   "id": "64f109a8",
   "metadata": {},
   "outputs": [],
   "source": [
    "N = 2048\n",
    "Q = Q50_11\n",
    "\n",
    "# key_type = \"Binary\"\n",
    "# stddev = 4.49\n",
    "# key_distribution = ND.SparseBinary(N // 2, N)\n",
    "\n",
    "key_type = \"Ternary\"\n",
    "stddev = 0.3908\n",
    "key_distribution = ND.SparseTernary(N // 4, N // 4, N)"
   ]
  },
  {
   "cell_type": "code",
   "execution_count": 21,
   "id": "de2cd2f5",
   "metadata": {},
   "outputs": [
    {
     "name": "stdout",
     "output_type": "stream",
     "text": [
      "shape: (1, 7)\n",
      "┌───────────┬──────────────┬──────────────┬──────────────┬─────────────┬─────────────┬─────────────┐\n",
      "│ dimension ┆ modulus      ┆ secret_distr ┆ secret_stdde ┆ noise_stdde ┆ security_bi ┆ datetime    │\n",
      "│ ---       ┆ ---          ┆ ---          ┆ v            ┆ v           ┆ ts          ┆ ---         │\n",
      "│ u64       ┆ u64          ┆ str          ┆ ---          ┆ ---         ┆ ---         ┆ datetime[μs │\n",
      "│           ┆              ┆              ┆ f64          ┆ f64         ┆ f64         ┆ ]           │\n",
      "╞═══════════╪══════════════╪══════════════╪══════════════╪═════════════╪═════════════╪═════════════╡\n",
      "│ 2048      ┆ 112589990682 ┆ Ternary      ┆ 0.707107     ┆ 0.3908      ┆ 128.000375  ┆ 2025-02-28  │\n",
      "│           ┆ 6241         ┆              ┆              ┆             ┆             ┆ 14:41:14.67 │\n",
      "│           ┆              ┆              ┆              ┆             ┆             ┆ 7156        │\n",
      "└───────────┴──────────────┴──────────────┴──────────────┴─────────────┴─────────────┴─────────────┘\n"
     ]
    }
   ],
   "source": [
    "check_security_with_data(N, Q, key_type, key_distribution, stddev)"
   ]
  }
 ],
 "metadata": {
  "kernelspec": {
   "display_name": "sage",
   "language": "python",
   "name": "python3"
  },
  "language_info": {
   "codemirror_mode": {
    "name": "ipython",
    "version": 3
   },
   "file_extension": ".py",
   "mimetype": "text/x-python",
   "name": "python",
   "nbconvert_exporter": "python",
   "pygments_lexer": "ipython3",
   "version": "3.11.10"
  }
 },
 "nbformat": 4,
 "nbformat_minor": 5
}
