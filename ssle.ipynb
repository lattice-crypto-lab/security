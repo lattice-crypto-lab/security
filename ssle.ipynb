{
 "cells": [
  {
   "cell_type": "code",
   "execution_count": 18,
   "id": "86def638",
   "metadata": {},
   "outputs": [],
   "source": [
    "from estimator.estimator import *\n",
    "from utils import *"
   ]
  },
  {
   "cell_type": "code",
   "execution_count": 19,
   "id": "12d75efb",
   "metadata": {},
   "outputs": [],
   "source": [
    "n = 512\n",
    "# q = 15361\n",
    "q = 25601\n",
    "\n",
    "# key_type = \"Binary\"\n",
    "# stddev = 3.19\n",
    "# key_distribution = ND.SparseBinary(n // 2, n)\n",
    "\n",
    "key_type = \"Ternary\"\n",
    "stddev = 3.19\n",
    "key_distribution = ND.SparseTernary(n // 4, n // 4, n)\n",
    "\n",
    "# h = 200\n",
    "# key_type = \"Hamming Weight: {}\".format(h)\n",
    "# stddev = 5.61\n",
    "# key_distribution = ND.SparseBinary(h, n)"
   ]
  },
  {
   "cell_type": "code",
   "execution_count": 20,
   "id": "768365f1",
   "metadata": {},
   "outputs": [
    {
     "name": "stdout",
     "output_type": "stream",
     "text": [
      "shape: (1, 7)\n",
      "┌───────────┬─────────┬──────────────┬───────────────┬──────────────┬───────────────┬──────────────┐\n",
      "│ dimension ┆ modulus ┆ secret_distr ┆ secret_stddev ┆ noise_stddev ┆ security_bits ┆ datetime     │\n",
      "│ ---       ┆ ---     ┆ ---          ┆ ---           ┆ ---          ┆ ---           ┆ ---          │\n",
      "│ u64       ┆ str     ┆ str          ┆ f64           ┆ f64          ┆ f64           ┆ datetime[μs] │\n",
      "╞═══════════╪═════════╪══════════════╪═══════════════╪══════════════╪═══════════════╪══════════════╡\n",
      "│ 512       ┆ 25601   ┆ Ternary      ┆ 0.707107      ┆ 3.19         ┆ 118.629642    ┆ 2025-08-24   │\n",
      "│           ┆         ┆              ┆               ┆              ┆               ┆ 19:12:05.509 │\n",
      "│           ┆         ┆              ┆               ┆              ┆               ┆ 904          │\n",
      "└───────────┴─────────┴──────────────┴───────────────┴──────────────┴───────────────┴──────────────┘\n"
     ]
    }
   ],
   "source": [
    "check_security_with_data(n, q, key_type, key_distribution, stddev)"
   ]
  },
  {
   "cell_type": "code",
   "execution_count": null,
   "id": "64f109a8",
   "metadata": {},
   "outputs": [],
   "source": [
    "N = 4096\n",
    "Q = 1125899906826241 * 1125899906629633\n",
    "\n",
    "# key_type = \"Binary\"\n",
    "# stddev = 4.49\n",
    "# key_distribution = ND.SparseBinary(N // 2, N)\n",
    "\n",
    "key_type = \"Ternary\"\n",
    "stddev = 3.19\n",
    "key_distribution = ND.SparseTernary(N // 4, N // 4, N)"
   ]
  },
  {
   "cell_type": "code",
   "execution_count": 22,
   "id": "de2cd2f5",
   "metadata": {},
   "outputs": [
    {
     "name": "stdout",
     "output_type": "stream",
     "text": [
      "LWEParameters(n=4096, q=1267650600085269386727079677953, Xs=T(p=1024, m=1024, n=4096), Xe=D(σ=3.19), m=+Infinity, tag=None)\n",
      "usvp                 :: rop: ≈2^140.4, red: ≈2^140.4, δ: 1.004202, β: 370, d: 7888, tag: usvp\n",
      "bdd                  :: rop: ≈2^139.6, red: ≈2^139.5, svp: ≈2^135.8, β: 367, η: 409, d: 7946, tag: bdd\n",
      "dual                 :: rop: ≈2^141.0, mem: ≈2^85.7, m: ≈2^12.0, β: 372, d: 8154, ↻: 1, tag: dual\n",
      "shape: (1, 7)\n",
      "┌───────────┬──────────────┬──────────────┬──────────────┬─────────────┬─────────────┬─────────────┐\n",
      "│ dimension ┆ modulus      ┆ secret_distr ┆ secret_stdde ┆ noise_stdde ┆ security_bi ┆ datetime    │\n",
      "│ ---       ┆ ---          ┆ ---          ┆ v            ┆ v           ┆ ts          ┆ ---         │\n",
      "│ u64       ┆ str          ┆ str          ┆ ---          ┆ ---         ┆ ---         ┆ datetime[μs │\n",
      "│           ┆              ┆              ┆ f64          ┆ f64         ┆ f64         ┆ ]           │\n",
      "╞═══════════╪══════════════╪══════════════╪══════════════╪═════════════╪═════════════╪═════════════╡\n",
      "│ 4096      ┆ 126765060008 ┆ Ternary      ┆ 0.707107     ┆ 3.19        ┆ 139.627532  ┆ 2025-08-24  │\n",
      "│           ┆ 526938672707 ┆              ┆              ┆             ┆             ┆ 19:14:46.84 │\n",
      "│           ┆ 967795…      ┆              ┆              ┆             ┆             ┆ 7879        │\n",
      "└───────────┴──────────────┴──────────────┴──────────────┴─────────────┴─────────────┴─────────────┘\n"
     ]
    }
   ],
   "source": [
    "check_security_with_data(N, Q, key_type, key_distribution, stddev)"
   ]
  }
 ],
 "metadata": {
  "kernelspec": {
   "display_name": "sage",
   "language": "python",
   "name": "python3"
  },
  "language_info": {
   "codemirror_mode": {
    "name": "ipython",
    "version": 3
   },
   "file_extension": ".py",
   "mimetype": "text/x-python",
   "name": "python",
   "nbconvert_exporter": "python",
   "pygments_lexer": "ipython3",
   "version": "3.11.10"
  }
 },
 "nbformat": 4,
 "nbformat_minor": 5
}
